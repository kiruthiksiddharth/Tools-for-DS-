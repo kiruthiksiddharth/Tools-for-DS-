{
 "cells": [
  {
   "cell_type": "markdown",
   "id": "25589e13-78ab-4bd5-901e-558918f811c2",
   "metadata": {},
   "source": [
    "# Final Project Notebook\n"
   ]
  },
  {
   "cell_type": "markdown",
   "id": "40ba9cbe-b450-4c35-8888-e7f245bf9099",
   "metadata": {},
   "source": [
    "## Introduction\n",
    "This notebook is a final project submission that demonstrates various aspects of Jupyter Notebook including Markdown, code cells, and tables.\n"
   ]
  },
  {
   "cell_type": "markdown",
   "id": "8655399a-340b-4ce3-835b-aebf1f9c2f23",
   "metadata": {},
   "source": [
    "## Data Science Languages\n",
    "- Python  \n",
    "- R  \n",
    "- Julia  \n",
    "- SQL  \n"
   ]
  },
  {
   "cell_type": "markdown",
   "id": "aefa5711-86fe-4f9d-ad40-d069d79ae1d3",
   "metadata": {},
   "source": [
    "## Data Science Libraries\n",
    "- NumPy  \n",
    "- Pandas  \n",
    "- Matplotlib  \n",
    "- Scikit-learn  \n",
    "- TensorFlow  \n"
   ]
  },
  {
   "cell_type": "markdown",
   "id": "9eb4fbf7-b909-42b2-b717-799cb7715ada",
   "metadata": {},
   "source": [
    "## Data Science Tools\n",
    "\n",
    "| Tool | Description |\n",
    "|------|------------|\n",
    "| Jupyter Notebook | Interactive coding environment |\n",
    "| RStudio | IDE for R programming |\n",
    "| TensorFlow | Machine learning framework |\n",
    "| Power BI | Data visualization tool |\n"
   ]
  },
  {
   "cell_type": "markdown",
   "id": "49e7e977-e69f-45ce-b1b5-4de9f0e6153f",
   "metadata": {},
   "source": [
    "## Arithmetic Expressions Examples\n",
    "Below are some arithmetic operations in Python, including addition and multiplication.\n"
   ]
  },
  {
   "cell_type": "code",
   "execution_count": 25,
   "id": "8644bcaa-b92a-46b1-b85c-57a33ecb1047",
   "metadata": {},
   "outputs": [
    {
     "name": "stdout",
     "output_type": "stream",
     "text": [
      "Result: 65\n"
     ]
    }
   ],
   "source": [
    "# Multiplication and Addition\n",
    "a = 5\n",
    "b = 10\n",
    "result = (a * b) + (a + b)\n",
    "print(\"Result:\", result)\n"
   ]
  },
  {
   "cell_type": "code",
   "execution_count": 26,
   "id": "3f1be29e-19f1-4087-9b86-a0e95ee04166",
   "metadata": {},
   "outputs": [
    {
     "name": "stdout",
     "output_type": "stream",
     "text": [
      "150 minutes is equal to 2.5 hours\n"
     ]
    }
   ],
   "source": [
    "# Convert Minutes to Hours\n",
    "minutes = 150\n",
    "hours = minutes / 60\n",
    "print(f\"{minutes} minutes is equal to {hours} hours\")\n"
   ]
  },
  {
   "cell_type": "markdown",
   "id": "781bfef7-80a3-475d-862b-5bfc67c4a5b3",
   "metadata": {},
   "source": [
    "## Objectives\n",
    "- Learn Markdown syntax  \n",
    "- Practice writing and executing Python code in Jupyter Notebook  \n",
    "- Understand arithmetic operations in Python  \n",
    "- Convert time units using Python  \n"
   ]
  },
  {
   "cell_type": "markdown",
   "id": "997c033f-69b3-4e3c-b758-62bb250b7531",
   "metadata": {},
   "source": [
    "## Author\n",
    "**kiruthiksiddharth M**\n"
   ]
  }
 ],
 "metadata": {
  "kernelspec": {
   "display_name": "Python 3 (ipykernel)",
   "language": "python",
   "name": "python3"
  },
  "language_info": {
   "codemirror_mode": {
    "name": "ipython",
    "version": 3
   },
   "file_extension": ".py",
   "mimetype": "text/x-python",
   "name": "python",
   "nbconvert_exporter": "python",
   "pygments_lexer": "ipython3",
   "version": "3.12.7"
  }
 },
 "nbformat": 4,
 "nbformat_minor": 5
}
